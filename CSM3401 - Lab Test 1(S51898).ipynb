{
 "cells": [
  {
   "cell_type": "code",
   "execution_count": 13,
   "metadata": {},
   "outputs": [
    {
     "name": "stdout",
     "output_type": "stream",
     "text": [
      "Please enter any number24\n",
      "2\n"
     ]
    }
   ],
   "source": [
    "def countBits(number): \n",
    "    count = 0\n",
    "    while (number): \n",
    "        count += number & 1\n",
    "        number >>= 1\n",
    "    return count \n",
    "  \n",
    "number = int(input(\"Please enter any number\"))\n",
    "result = print(countBits(number))"
   ]
  },
  {
   "cell_type": "code",
   "execution_count": 38,
   "metadata": {},
   "outputs": [
    {
     "name": "stdout",
     "output_type": "stream",
     "text": [
      "Count of all characters in the letter is :\n",
      " {'a': 4, 'n': 2, ' ': 5, 'p': 2, 'l': 1, 'e': 1, 'i': 1, 's': 1, 'o': 3, 't': 3, 'm': 1}\n"
     ]
    }
   ],
   "source": [
    "letter = \"an apple is not a tomato\"\n",
    "\n",
    "all_freq = {} \n",
    "  \n",
    "for i in letter: \n",
    "    if i in all_freq: \n",
    "        all_freq[i] += 1\n",
    "    else: \n",
    "        all_freq[i] = 1\n",
    "        \n",
    "print (\"Count of all characters in the letter is :\\n \"\n",
    "                                        +  str(all_freq))"
   ]
  },
  {
   "cell_type": "code",
   "execution_count": 31,
   "metadata": {},
   "outputs": [
    {
     "name": "stdout",
     "output_type": "stream",
     "text": [
      "The number of word in string are :4\n"
     ]
    }
   ],
   "source": [
    "def count_word(word):\n",
    "    res = len(word.split())\n",
    "    print (\"The number of word in string are :\" + str(res))\n",
    "\n",
    "letter = \"I have Python exam\"\n",
    "result = count_word(letter)"
   ]
  },
  {
   "cell_type": "code",
   "execution_count": 64,
   "metadata": {},
   "outputs": [
    {
     "ename": "NameError",
     "evalue": "name 'multiply_by_two' is not defined",
     "output_type": "error",
     "traceback": [
      "\u001b[1;31m---------------------------------------------------------------------------\u001b[0m",
      "\u001b[1;31mNameError\u001b[0m                                 Traceback (most recent call last)",
      "\u001b[1;32m<ipython-input-64-1616437a9db7>\u001b[0m in \u001b[0;36m<module>\u001b[1;34m\u001b[0m\n\u001b[0;32m      4\u001b[0m         \u001b[1;32mreturn\u001b[0m \u001b[0mx\u001b[0m \u001b[1;33m*\u001b[0m \u001b[1;36m2\u001b[0m\u001b[1;33m\u001b[0m\u001b[1;33m\u001b[0m\u001b[0m\n\u001b[0;32m      5\u001b[0m \u001b[1;33m\u001b[0m\u001b[0m\n\u001b[1;32m----> 6\u001b[1;33m \u001b[0maugmented_multiply_by_two\u001b[0m \u001b[1;33m=\u001b[0m \u001b[0mprint_arguments\u001b[0m\u001b[1;33m(\u001b[0m\u001b[0mmultiply_by_two\u001b[0m\u001b[1;33m)\u001b[0m\u001b[1;33m\u001b[0m\u001b[1;33m\u001b[0m\u001b[0m\n\u001b[0m\u001b[0;32m      7\u001b[0m \u001b[0mx\u001b[0m \u001b[1;33m=\u001b[0m \u001b[0maugmented_multiply_by_two\u001b[0m\u001b[1;33m(\u001b[0m\u001b[1;36m10\u001b[0m\u001b[1;33m)\u001b[0m\u001b[1;33m\u001b[0m\u001b[1;33m\u001b[0m\u001b[0m\n\u001b[0;32m      8\u001b[0m \u001b[1;33m\u001b[0m\u001b[0m\n",
      "\u001b[1;31mNameError\u001b[0m: name 'multiply_by_two' is not defined"
     ]
    }
   ],
   "source": [
    "def print_arguments(x):\n",
    "\n",
    "    def multiply_by_two(x):\n",
    "        return x * 2\n",
    "    \n",
    "    def add_numbers(a, b):\n",
    "    return a + b\n",
    "\n",
    "\n",
    "augmented_multiply_by_two = print_arguments(multiply_by_two)\n",
    "x = augmented_multiply_by_two(10) \n",
    "\n",
    "augmented_add_numbers = print_arguments(add_numbers)\n",
    "x = augmented_add_numbers(3, 4)\n",
    "\n",
    "\n",
    "    "
   ]
  },
  {
   "cell_type": "code",
   "execution_count": 70,
   "metadata": {},
   "outputs": [
    {
     "ename": "IndentationError",
     "evalue": "unindent does not match any outer indentation level (<tokenize>, line 5)",
     "output_type": "error",
     "traceback": [
      "\u001b[1;36m  File \u001b[1;32m\"<tokenize>\"\u001b[1;36m, line \u001b[1;32m5\u001b[0m\n\u001b[1;33m    return multiply_by_three\u001b[0m\n\u001b[1;37m    ^\u001b[0m\n\u001b[1;31mIndentationError\u001b[0m\u001b[1;31m:\u001b[0m unindent does not match any outer indentation level\n"
     ]
    }
   ],
   "source": [
    "def multiply_output(function):\n",
    "    \n",
    "    def multiply_by_three(x):\n",
    "        return x * 3\n",
    "    return multiply_by_three\n",
    "\n",
    "augmented_multiply_by_three = multiply_output(multiply_by_three)\n",
    "x = augmented_multiply_by_three(10)\n",
    "\n"
   ]
  },
  {
   "cell_type": "code",
   "execution_count": 71,
   "metadata": {},
   "outputs": [
    {
     "ename": "SyntaxError",
     "evalue": "unexpected EOF while parsing (<ipython-input-71-801a480cb118>, line 1)",
     "output_type": "error",
     "traceback": [
      "\u001b[1;36m  File \u001b[1;32m\"<ipython-input-71-801a480cb118>\"\u001b[1;36m, line \u001b[1;32m1\u001b[0m\n\u001b[1;33m    def augment_function(function, decorators):\u001b[0m\n\u001b[1;37m                                               ^\u001b[0m\n\u001b[1;31mSyntaxError\u001b[0m\u001b[1;31m:\u001b[0m unexpected EOF while parsing\n"
     ]
    }
   ],
   "source": [
    "def augment_function(function, decorators):\n",
    "    def add_numbers(a, b):\n",
    "        return a + b\n",
    "    \n",
    "decorated_function = augment_function(add_numbers, [print_arguments,\n",
    "multiply_output])\n",
    "x = decorated_function(3, 4)"
   ]
  },
  {
   "cell_type": "code",
   "execution_count": null,
   "metadata": {},
   "outputs": [],
   "source": []
  }
 ],
 "metadata": {
  "kernelspec": {
   "display_name": "Python 3",
   "language": "python",
   "name": "python3"
  },
  "language_info": {
   "codemirror_mode": {
    "name": "ipython",
    "version": 3
   },
   "file_extension": ".py",
   "mimetype": "text/x-python",
   "name": "python",
   "nbconvert_exporter": "python",
   "pygments_lexer": "ipython3",
   "version": "3.8.5"
  }
 },
 "nbformat": 4,
 "nbformat_minor": 4
}
